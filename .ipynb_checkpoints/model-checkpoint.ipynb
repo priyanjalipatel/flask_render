{
 "cells": [
  {
   "cell_type": "code",
   "execution_count": 2,
   "id": "e02d90a6-89b1-4fc9-9ac5-1b7753848401",
   "metadata": {},
   "outputs": [
    {
     "name": "stdout",
     "output_type": "stream",
     "text": [
      "Accuracy: 0.956140350877193\n"
     ]
    },
    {
     "ename": "FileNotFoundError",
     "evalue": "[Errno 2] No such file or directory: '/homeDocuments/Job/courses/DataGlacier/DataSets/flask_app/model.pkl'",
     "output_type": "error",
     "traceback": [
      "\u001b[0;31m---------------------------------------------------------------------------\u001b[0m",
      "\u001b[0;31mFileNotFoundError\u001b[0m                         Traceback (most recent call last)",
      "Cell \u001b[0;32mIn[2], line 31\u001b[0m\n\u001b[1;32m     28\u001b[0m \u001b[38;5;28mprint\u001b[39m(\u001b[38;5;124m\"\u001b[39m\u001b[38;5;124mAccuracy:\u001b[39m\u001b[38;5;124m\"\u001b[39m, accuracy_score(y_test, y_pred))\n\u001b[1;32m     30\u001b[0m \u001b[38;5;66;03m# Save model with compression\u001b[39;00m\n\u001b[0;32m---> 31\u001b[0m dump(model, \u001b[38;5;124m\"\u001b[39m\u001b[38;5;124m/homeDocuments/Job/courses/DataGlacier/DataSets/flask_app/model.pkl\u001b[39m\u001b[38;5;124m\"\u001b[39m, compress\u001b[38;5;241m=\u001b[39m\u001b[38;5;241m4\u001b[39m)  \u001b[38;5;66;03m# compression level 0–9\u001b[39;00m\n\u001b[1;32m     32\u001b[0m \u001b[38;5;28mprint\u001b[39m(\u001b[38;5;124m\"\u001b[39m\u001b[38;5;124mModel saved as model.pkl (compressed).\u001b[39m\u001b[38;5;124m\"\u001b[39m)\n",
      "File \u001b[0;32m~/miniconda3/lib/python3.12/site-packages/joblib/numpy_pickle.py:548\u001b[0m, in \u001b[0;36mdump\u001b[0;34m(value, filename, compress, protocol, cache_size)\u001b[0m\n\u001b[1;32m    542\u001b[0m     warnings\u001b[38;5;241m.\u001b[39mwarn(\u001b[38;5;124m\"\u001b[39m\u001b[38;5;124mPlease do not set \u001b[39m\u001b[38;5;124m'\u001b[39m\u001b[38;5;124mcache_size\u001b[39m\u001b[38;5;124m'\u001b[39m\u001b[38;5;124m in joblib.dump, \u001b[39m\u001b[38;5;124m\"\u001b[39m\n\u001b[1;32m    543\u001b[0m                   \u001b[38;5;124m\"\u001b[39m\u001b[38;5;124mthis parameter has no effect and will be removed. \u001b[39m\u001b[38;5;124m\"\u001b[39m\n\u001b[1;32m    544\u001b[0m                   \u001b[38;5;124m\"\u001b[39m\u001b[38;5;124mYou used \u001b[39m\u001b[38;5;124m'\u001b[39m\u001b[38;5;124mcache_size=\u001b[39m\u001b[38;5;132;01m{}\u001b[39;00m\u001b[38;5;124m'\u001b[39m\u001b[38;5;124m\"\u001b[39m\u001b[38;5;241m.\u001b[39mformat(cache_size),\n\u001b[1;32m    545\u001b[0m                   \u001b[38;5;167;01mDeprecationWarning\u001b[39;00m, stacklevel\u001b[38;5;241m=\u001b[39m\u001b[38;5;241m2\u001b[39m)\n\u001b[1;32m    547\u001b[0m \u001b[38;5;28;01mif\u001b[39;00m compress_level \u001b[38;5;241m!=\u001b[39m \u001b[38;5;241m0\u001b[39m:\n\u001b[0;32m--> 548\u001b[0m     \u001b[38;5;28;01mwith\u001b[39;00m _write_fileobject(filename, compress\u001b[38;5;241m=\u001b[39m(compress_method,\n\u001b[1;32m    549\u001b[0m                                                compress_level)) \u001b[38;5;28;01mas\u001b[39;00m f:\n\u001b[1;32m    550\u001b[0m         NumpyPickler(f, protocol\u001b[38;5;241m=\u001b[39mprotocol)\u001b[38;5;241m.\u001b[39mdump(value)\n\u001b[1;32m    551\u001b[0m \u001b[38;5;28;01melif\u001b[39;00m is_filename:\n",
      "File \u001b[0;32m~/miniconda3/lib/python3.12/site-packages/joblib/numpy_pickle_utils.py:200\u001b[0m, in \u001b[0;36m_write_fileobject\u001b[0;34m(filename, compress)\u001b[0m\n\u001b[1;32m    198\u001b[0m     \u001b[38;5;28;01mreturn\u001b[39;00m _buffered_write_file(file_instance)\n\u001b[1;32m    199\u001b[0m \u001b[38;5;28;01melse\u001b[39;00m:\n\u001b[0;32m--> 200\u001b[0m     file_instance \u001b[38;5;241m=\u001b[39m _COMPRESSORS[\u001b[38;5;124m'\u001b[39m\u001b[38;5;124mzlib\u001b[39m\u001b[38;5;124m'\u001b[39m]\u001b[38;5;241m.\u001b[39mcompressor_file(\n\u001b[1;32m    201\u001b[0m         filename, compresslevel\u001b[38;5;241m=\u001b[39mcompresslevel)\n\u001b[1;32m    202\u001b[0m     \u001b[38;5;28;01mreturn\u001b[39;00m _buffered_write_file(file_instance)\n",
      "File \u001b[0;32m~/miniconda3/lib/python3.12/site-packages/joblib/compressor.py:107\u001b[0m, in \u001b[0;36mCompressorWrapper.compressor_file\u001b[0;34m(self, fileobj, compresslevel)\u001b[0m\n\u001b[1;32m    105\u001b[0m     \u001b[38;5;28;01mreturn\u001b[39;00m \u001b[38;5;28mself\u001b[39m\u001b[38;5;241m.\u001b[39mfileobj_factory(fileobj, \u001b[38;5;124m'\u001b[39m\u001b[38;5;124mwb\u001b[39m\u001b[38;5;124m'\u001b[39m)\n\u001b[1;32m    106\u001b[0m \u001b[38;5;28;01melse\u001b[39;00m:\n\u001b[0;32m--> 107\u001b[0m     \u001b[38;5;28;01mreturn\u001b[39;00m \u001b[38;5;28mself\u001b[39m\u001b[38;5;241m.\u001b[39mfileobj_factory(fileobj, \u001b[38;5;124m'\u001b[39m\u001b[38;5;124mwb\u001b[39m\u001b[38;5;124m'\u001b[39m,\n\u001b[1;32m    108\u001b[0m                                 compresslevel\u001b[38;5;241m=\u001b[39mcompresslevel)\n",
      "File \u001b[0;32m~/miniconda3/lib/python3.12/site-packages/joblib/compressor.py:287\u001b[0m, in \u001b[0;36mBinaryZlibFile.__init__\u001b[0;34m(self, filename, mode, compresslevel)\u001b[0m\n\u001b[1;32m    284\u001b[0m     \u001b[38;5;28;01mraise\u001b[39;00m \u001b[38;5;167;01mValueError\u001b[39;00m(\u001b[38;5;124m\"\u001b[39m\u001b[38;5;124mInvalid mode: \u001b[39m\u001b[38;5;132;01m%r\u001b[39;00m\u001b[38;5;124m\"\u001b[39m \u001b[38;5;241m%\u001b[39m (mode,))\n\u001b[1;32m    286\u001b[0m \u001b[38;5;28;01mif\u001b[39;00m \u001b[38;5;28misinstance\u001b[39m(filename, \u001b[38;5;28mstr\u001b[39m):\n\u001b[0;32m--> 287\u001b[0m     \u001b[38;5;28mself\u001b[39m\u001b[38;5;241m.\u001b[39m_fp \u001b[38;5;241m=\u001b[39m io\u001b[38;5;241m.\u001b[39mopen(filename, mode)\n\u001b[1;32m    288\u001b[0m     \u001b[38;5;28mself\u001b[39m\u001b[38;5;241m.\u001b[39m_closefp \u001b[38;5;241m=\u001b[39m \u001b[38;5;28;01mTrue\u001b[39;00m\n\u001b[1;32m    289\u001b[0m \u001b[38;5;28;01melif\u001b[39;00m \u001b[38;5;28mhasattr\u001b[39m(filename, \u001b[38;5;124m\"\u001b[39m\u001b[38;5;124mread\u001b[39m\u001b[38;5;124m\"\u001b[39m) \u001b[38;5;129;01mor\u001b[39;00m \u001b[38;5;28mhasattr\u001b[39m(filename, \u001b[38;5;124m\"\u001b[39m\u001b[38;5;124mwrite\u001b[39m\u001b[38;5;124m\"\u001b[39m):\n",
      "\u001b[0;31mFileNotFoundError\u001b[0m: [Errno 2] No such file or directory: '/homeDocuments/Job/courses/DataGlacier/DataSets/flask_app/model.pkl'"
     ]
    }
   ],
   "source": [
    "import pandas as pd\n",
    "from sklearn.ensemble import RandomForestClassifier\n",
    "from sklearn.model_selection import train_test_split\n",
    "from sklearn.feature_selection import SelectKBest, f_classif\n",
    "from sklearn.metrics import accuracy_score\n",
    "from joblib import dump\n",
    "\n",
    "# Load your dataset (replace with your actual file)\n",
    "# Example: df = pd.read_csv(\"your_data.csv\")\n",
    "# For demonstration:\n",
    "from sklearn.datasets import load_breast_cancer\n",
    "data = load_breast_cancer()\n",
    "X, y = pd.DataFrame(data.data, columns=data.feature_names), data.target\n",
    "\n",
    "# Optional: reduce dimensionality (keep only top 15 features)\n",
    "selector = SelectKBest(score_func=f_classif, k=15)\n",
    "X_new = selector.fit_transform(X, y)\n",
    "\n",
    "# Split data\n",
    "X_train, X_test, y_train, y_test = train_test_split(X_new, y, test_size=0.2, random_state=42)\n",
    "\n",
    "# Train a compact Random Forest model\n",
    "model = RandomForestClassifier(n_estimators=25, max_depth=6, random_state=42)\n",
    "model.fit(X_train, y_train)\n",
    "\n",
    "# Test model performance (optional)\n",
    "y_pred = model.predict(X_test)\n",
    "print(\"Accuracy:\", accuracy_score(y_test, y_pred))\n",
    "\n",
    "# Save model with compression\n",
    "dump(model, \"/homeDocuments/Job/courses/DataGlacier/DataSets/flask_app/model.pkl\", compress=4)  # compression level 0–9\n",
    "print(\"Model saved as model.pkl (compressed).\")\n"
   ]
  },
  {
   "cell_type": "code",
   "execution_count": null,
   "id": "d21bc9b1-cc56-483a-a7a8-803daf2d708d",
   "metadata": {},
   "outputs": [],
   "source": []
  }
 ],
 "metadata": {
  "kernelspec": {
   "display_name": "Python 3 (ipykernel)",
   "language": "python",
   "name": "python3"
  },
  "language_info": {
   "codemirror_mode": {
    "name": "ipython",
    "version": 3
   },
   "file_extension": ".py",
   "mimetype": "text/x-python",
   "name": "python",
   "nbconvert_exporter": "python",
   "pygments_lexer": "ipython3",
   "version": "3.12.4"
  }
 },
 "nbformat": 4,
 "nbformat_minor": 5
}
